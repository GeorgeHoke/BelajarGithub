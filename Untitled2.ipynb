{
  "nbformat": 4,
  "nbformat_minor": 0,
  "metadata": {
    "colab": {
      "name": "Untitled2.ipynb",
      "provenance": [],
      "authorship_tag": "ABX9TyNpQZenTGOAWj/fr9DMFWwv",
      "include_colab_link": true
    },
    "kernelspec": {
      "name": "ir",
      "display_name": "R"
    },
    "language_info": {
      "name": "R"
    }
  },
  "cells": [
    {
      "cell_type": "markdown",
      "metadata": {
        "id": "view-in-github",
        "colab_type": "text"
      },
      "source": [
        "<a href=\"https://colab.research.google.com/github/GeorgeHoke/BelajarGithub/blob/main/Untitled2.ipynb\" target=\"_parent\"><img src=\"https://colab.research.google.com/assets/colab-badge.svg\" alt=\"Open In Colab\"/></a>"
      ]
    },
    {
      "cell_type": "code",
      "execution_count": 8,
      "metadata": {
        "colab": {
          "base_uri": "https://localhost:8080/",
          "height": 894
        },
        "id": "mvkbR9EiEhYp",
        "outputId": "32b04453-e1bf-4106-ae43-63e400dabc01"
      },
      "outputs": [
        {
          "output_type": "stream",
          "name": "stderr",
          "text": [
            "\u001b[1mRows: \u001b[22m\u001b[34m400\u001b[39m \u001b[1mColumns: \u001b[22m\u001b[34m4\u001b[39m\n",
            "\u001b[36m──\u001b[39m \u001b[1mColumn specification\u001b[22m \u001b[36m────────────────────────────────────────────────────────\u001b[39m\n",
            "\u001b[1mDelimiter:\u001b[22m \",\"\n",
            "\u001b[31mchr\u001b[39m (1): Gender\n",
            "\u001b[32mdbl\u001b[39m (3): Age, EstimatedSalary, Purchased\n",
            "\n",
            "\u001b[36mℹ\u001b[39m Use `spec()` to retrieve the full column specification for this data.\n",
            "\u001b[36mℹ\u001b[39m Specify the column types or set `show_col_types = FALSE` to quiet this message.\n"
          ]
        },
        {
          "output_type": "display_data",
          "data": {
            "text/html": [
              "<table class=\"dataframe\">\n",
              "<caption>A tibble: 6 × 4</caption>\n",
              "<thead>\n",
              "\t<tr><th scope=col>Gender</th><th scope=col>Age</th><th scope=col>EstimatedSalary</th><th scope=col>Purchased</th></tr>\n",
              "\t<tr><th scope=col>&lt;chr&gt;</th><th scope=col>&lt;dbl&gt;</th><th scope=col>&lt;dbl&gt;</th><th scope=col>&lt;dbl&gt;</th></tr>\n",
              "</thead>\n",
              "<tbody>\n",
              "\t<tr><td>Male  </td><td>19</td><td>19000</td><td>0</td></tr>\n",
              "\t<tr><td>Male  </td><td>35</td><td>20000</td><td>0</td></tr>\n",
              "\t<tr><td>Female</td><td>26</td><td>43000</td><td>0</td></tr>\n",
              "\t<tr><td>Female</td><td>27</td><td>57000</td><td>0</td></tr>\n",
              "\t<tr><td>Male  </td><td>19</td><td>76000</td><td>0</td></tr>\n",
              "\t<tr><td>Male  </td><td>27</td><td>58000</td><td>0</td></tr>\n",
              "</tbody>\n",
              "</table>\n"
            ],
            "text/markdown": "\nA tibble: 6 × 4\n\n| Gender &lt;chr&gt; | Age &lt;dbl&gt; | EstimatedSalary &lt;dbl&gt; | Purchased &lt;dbl&gt; |\n|---|---|---|---|\n| Male   | 19 | 19000 | 0 |\n| Male   | 35 | 20000 | 0 |\n| Female | 26 | 43000 | 0 |\n| Female | 27 | 57000 | 0 |\n| Male   | 19 | 76000 | 0 |\n| Male   | 27 | 58000 | 0 |\n\n",
            "text/latex": "A tibble: 6 × 4\n\\begin{tabular}{llll}\n Gender & Age & EstimatedSalary & Purchased\\\\\n <chr> & <dbl> & <dbl> & <dbl>\\\\\n\\hline\n\t Male   & 19 & 19000 & 0\\\\\n\t Male   & 35 & 20000 & 0\\\\\n\t Female & 26 & 43000 & 0\\\\\n\t Female & 27 & 57000 & 0\\\\\n\t Male   & 19 & 76000 & 0\\\\\n\t Male   & 27 & 58000 & 0\\\\\n\\end{tabular}\n",
            "text/plain": [
              "  Gender Age EstimatedSalary Purchased\n",
              "1 Male   19  19000           0        \n",
              "2 Male   35  20000           0        \n",
              "3 Female 26  43000           0        \n",
              "4 Female 27  57000           0        \n",
              "5 Male   19  76000           0        \n",
              "6 Male   27  58000           0        "
            ]
          },
          "metadata": {}
        },
        {
          "output_type": "display_data",
          "data": {
            "text/plain": [
              "Confusion Matrix and Statistics\n",
              "\n",
              "          Reference\n",
              "Prediction  0  1\n",
              "         0 53  1\n",
              "         1  5 21\n",
              "                                         \n",
              "               Accuracy : 0.925          \n",
              "                 95% CI : (0.8439, 0.972)\n",
              "    No Information Rate : 0.725          \n",
              "    P-Value [Acc > NIR] : 7.53e-06       \n",
              "                                         \n",
              "                  Kappa : 0.822          \n",
              "                                         \n",
              " Mcnemar's Test P-Value : 0.2207         \n",
              "                                         \n",
              "            Sensitivity : 0.9138         \n",
              "            Specificity : 0.9545         \n",
              "         Pos Pred Value : 0.9815         \n",
              "         Neg Pred Value : 0.8077         \n",
              "             Prevalence : 0.7250         \n",
              "         Detection Rate : 0.6625         \n",
              "   Detection Prevalence : 0.6750         \n",
              "      Balanced Accuracy : 0.9342         \n",
              "                                         \n",
              "       'Positive' Class : 0              \n",
              "                                         "
            ]
          },
          "metadata": {}
        }
      ],
      "source": [
        "library(caret) #pre-defined \n",
        "library(rpart) #pre-defined\n",
        "library(readr) #pre-defined\n",
        "set.seed(123)  #pre-defined\n",
        "\n",
        "suv_data <- read_csv(\"https://storage.googleapis.com/dqlab-dataset/suv_data.csv\") #pre-defined\n",
        "head(suv_data)\n",
        "\n",
        "#split data to training & testing set\n",
        "trainIndex <- createDataPartition(suv_data$Purchased,p=0.8,list=FALSE)\n",
        "training_set <- suv_data[trainIndex,]\n",
        "testing_set <- suv_data[-trainIndex,]\n",
        "\n",
        "#build model with decision tree\n",
        "model_dt <- rpart(Purchased~.,data=training_set,method=\"class\")\n",
        "predictions_dt <- predict(model_dt,newdata=testing_set,type=\"class\")\n",
        "\n",
        "#evaluate performance with new data/ testing_set\n",
        "testing_purchased <- factor(testing_set$Purchased) #pre-defined \n",
        "\n",
        "#show the evaluation result \n",
        "evaluation_result <- confusionMatrix(predictions_dt,testing_purchased)\n",
        "evaluation_result\n"
      ]
    }
  ]
}