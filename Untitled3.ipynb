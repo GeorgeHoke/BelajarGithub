{
  "nbformat": 4,
  "nbformat_minor": 0,
  "metadata": {
    "colab": {
      "name": "Untitled3.ipynb",
      "provenance": [],
      "collapsed_sections": [],
      "mount_file_id": "1E9GtoOHgHOoDFPm6G6UU6BbCsEM5aQp8",
      "authorship_tag": "ABX9TyM3qr5UNP8lPwe4G2zq/mXL",
      "include_colab_link": true
    },
    "kernelspec": {
      "name": "python3",
      "display_name": "Python 3"
    },
    "language_info": {
      "name": "python"
    }
  },
  "cells": [
    {
      "cell_type": "markdown",
      "metadata": {
        "id": "view-in-github",
        "colab_type": "text"
      },
      "source": [
        "<a href=\"https://colab.research.google.com/github/GeorgeHoke/BelajarGithub/blob/main/Untitled3.ipynb\" target=\"_parent\"><img src=\"https://colab.research.google.com/assets/colab-badge.svg\" alt=\"Open In Colab\"/></a>"
      ]
    },
    {
      "cell_type": "code",
      "execution_count": 11,
      "metadata": {
        "colab": {
          "base_uri": "https://localhost:8080/"
        },
        "id": "Yb2Wd61oJwwT",
        "outputId": "a9a2ec7a-46e1-43fc-c754-9f3210db6663"
      },
      "outputs": [
        {
          "output_type": "stream",
          "name": "stdout",
          "text": [
            "   id   suami     istri       desa no_akta         ppn     tanggal\n",
            "0   1    Baon     Satri   Jatilaba  1/1966  K. Mahsoem  03/01/1966\n",
            "1   2   Jasim  Choeipah   Jatilaba  2/1966  K. Mahsoem  03/01/1966\n",
            "2   3   Makri     Koeri     Prupuk  3/1966  K. Mahsoem  03/01/1966\n",
            "3   4   Wakdi    Kuniah  Kalisalak  4/1966  K. Mahsoem  04/01/1966\n",
            "4   5  Basoin  Kochasri   Pakulaut  5/1966  K. Mahsoem  04/01/1966\n"
          ]
        }
      ],
      "source": [
        "import pandas as pd\n",
        "\n",
        "df = pd.read_csv ('/content/drive/MyDrive/03 - type data fix 005.csv',sep=';')\n",
        "print (df.head())"
      ]
    },
    {
      "cell_type": "code",
      "source": [
        ""
      ],
      "metadata": {
        "id": "LyifirKBM69t"
      },
      "execution_count": null,
      "outputs": []
    }
  ]
}